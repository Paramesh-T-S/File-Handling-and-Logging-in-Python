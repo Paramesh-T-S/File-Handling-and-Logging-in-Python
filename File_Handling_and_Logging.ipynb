{
 "cells": [
  {
   "cell_type": "markdown",
   "metadata": {},
   "source": [
    "Files Handling"
   ]
  },
  {
   "cell_type": "code",
   "execution_count": 1,
   "metadata": {},
   "outputs": [
    {
     "data": {
      "text/plain": [
       "'folder1\\\\folder2\\\\folder3\\\\file.png'"
      ]
     },
     "execution_count": 1,
     "metadata": {},
     "output_type": "execute_result"
    }
   ],
   "source": [
    "# in python \\\\ = \\ - for general string \n",
    "# for raw string - \\\n",
    "\n",
    "import os #This is how all are going to run on all operating systems\n",
    "os.path.join('folder1','folder2','folder3','file.png') ##Just a virtual path example/"
   ]
  },
  {
   "cell_type": "code",
   "execution_count": 2,
   "metadata": {},
   "outputs": [
    {
     "data": {
      "text/plain": [
       "'\\\\'"
      ]
     },
     "execution_count": 2,
     "metadata": {},
     "output_type": "execute_result"
    }
   ],
   "source": [
    "os.sep"
   ]
  },
  {
   "cell_type": "code",
   "execution_count": 3,
   "metadata": {},
   "outputs": [
    {
     "data": {
      "text/plain": [
       "'C:\\\\Users\\\\param'"
      ]
     },
     "execution_count": 3,
     "metadata": {},
     "output_type": "execute_result"
    }
   ],
   "source": [
    "os.getcwd()  #returns current working directory"
   ]
  },
  {
   "cell_type": "code",
   "execution_count": 5,
   "metadata": {},
   "outputs": [
    {
     "data": {
      "text/plain": [
       "\"os.chdir('directory to change ')\""
      ]
     },
     "execution_count": 5,
     "metadata": {},
     "output_type": "execute_result"
    }
   ],
   "source": [
    "\"os.chdir('directory to change ')\" #to change directory"
   ]
  },
  {
   "cell_type": "markdown",
   "metadata": {},
   "source": [
    "Two types of file paths \n",
    " 1.Absolute - Giving the full path name\n",
    " 2.Relative - only the file name with extension"
   ]
  },
  {
   "cell_type": "markdown",
   "metadata": {},
   "source": [
    ". - at the current directory folder\n",
    ".. - at the parent folder"
   ]
  },
  {
   "cell_type": "code",
   "execution_count": 6,
   "metadata": {},
   "outputs": [
    {
     "data": {
      "text/plain": [
       "\"os.path.isabs('abs file path')\""
      ]
     },
     "execution_count": 6,
     "metadata": {},
     "output_type": "execute_result"
    }
   ],
   "source": [
    "\"os.path.abspath('abs file path')\" \n",
    "\"os.path.isabs('abs file path')\"  #- returns true or false "
   ]
  },
  {
   "cell_type": "code",
   "execution_count": 7,
   "metadata": {},
   "outputs": [
    {
     "data": {
      "text/plain": [
       "\"os.path.listdir('directory')\""
      ]
     },
     "execution_count": 7,
     "metadata": {},
     "output_type": "execute_result"
    }
   ],
   "source": [
    "\"os.path.relpath('abs file path')\" \n",
    "\"os.path.isabs('abs file path')\" \n",
    "\"os.path.dirname('dir name')\"\n",
    "\"os.path.basename('dir name')\"\n",
    "\n",
    "\"os.path.exists('directory')\" #to check whether the whole directory is exist \n",
    "\"os.path.isfile('directory ')\" #Returns True if the file exists or False if not\n",
    "\"os.path.getsize('directory')\" #Returns the size of the target file\n",
    "\"os.path.listdir('directory')\" #lists the directory "
   ]
  },
  {
   "cell_type": "code",
   "execution_count": 8,
   "metadata": {},
   "outputs": [
    {
     "data": {
      "text/plain": [
       "\"os.makedirs('directory with folders name ')\""
      ]
     },
     "execution_count": 8,
     "metadata": {},
     "output_type": "execute_result"
    }
   ],
   "source": [
    "\"os.makedirs('directory with folders name ')\""
   ]
  },
  {
   "cell_type": "markdown",
   "metadata": {},
   "source": [
    "# Reading and Writing Plaintext Files"
   ]
  },
  {
   "cell_type": "code",
   "execution_count": 9,
   "metadata": {},
   "outputs": [],
   "source": [
    "#refer google:-)"
   ]
  },
  {
   "cell_type": "markdown",
   "metadata": {},
   "source": [
    "Debugging and logging"
   ]
  },
  {
   "cell_type": "code",
   "execution_count": 12,
   "metadata": {},
   "outputs": [
    {
     "name": "stderr",
     "output_type": "stream",
     "text": [
      "2019-11-29 14:16:54,093 - DEBUG - Start of program\n",
      "2019-11-29 14:16:54,094 - DEBUG - Start of factorial(5)\n",
      "2019-11-29 14:16:54,095 - DEBUG - i is 0, total is 0\n",
      "2019-11-29 14:16:54,095 - DEBUG - i is 1, total is 0\n",
      "2019-11-29 14:16:54,096 - DEBUG - i is 2, total is 0\n",
      "2019-11-29 14:16:54,097 - DEBUG - i is 3, total is 0\n",
      "2019-11-29 14:16:54,097 - DEBUG - i is 4, total is 0\n",
      "2019-11-29 14:16:54,098 - DEBUG - i is 5, total is 0\n",
      "2019-11-29 14:16:54,099 - DEBUG - Return value is 0\n",
      "2019-11-29 14:16:54,099 - DEBUG - End of program\n"
     ]
    },
    {
     "name": "stdout",
     "output_type": "stream",
     "text": [
      "0\n"
     ]
    }
   ],
   "source": [
    "#logging \n",
    "#To take or import logs \n",
    "\n",
    "import logging\n",
    "logging.basicConfig(level=logging.DEBUG, format='%(asctime)s - %(levelname)s - %(message)s')\n",
    "\n",
    "logging.debug('Start of program')\n",
    "\n",
    "def factorial(n):\n",
    "    logging.debug('Start of factorial(%s)'%(n))\n",
    "    total = 1\n",
    "    for i in range(n+1):\n",
    "        total *= i\n",
    "        logging.debug('i is %s, total is %s'%(i, total))\n",
    "    \n",
    "    logging.debug('Return value is %s'%(total))\n",
    "    return total\n",
    "print(factorial(5))\n",
    "\n",
    "logging.debug('End of program')"
   ]
  },
  {
   "cell_type": "code",
   "execution_count": 13,
   "metadata": {},
   "outputs": [
    {
     "name": "stderr",
     "output_type": "stream",
     "text": [
      "2019-11-29 14:17:49,959 - DEBUG - Start of program\n",
      "2019-11-29 14:17:49,960 - DEBUG - Start of factorial(5)\n",
      "2019-11-29 14:17:49,961 - DEBUG - i is 1, total is 1\n",
      "2019-11-29 14:17:49,961 - DEBUG - i is 2, total is 2\n",
      "2019-11-29 14:17:49,962 - DEBUG - i is 3, total is 6\n",
      "2019-11-29 14:17:49,962 - DEBUG - i is 4, total is 24\n",
      "2019-11-29 14:17:49,963 - DEBUG - i is 5, total is 120\n",
      "2019-11-29 14:17:49,964 - DEBUG - Return value is 120\n",
      "2019-11-29 14:17:49,964 - DEBUG - End of program\n"
     ]
    },
    {
     "name": "stdout",
     "output_type": "stream",
     "text": [
      "120\n"
     ]
    }
   ],
   "source": [
    "import logging\n",
    "logging.basicConfig(level=logging.DEBUG, format='%(asctime)s - %(levelname)s - %(message)s')\n",
    "\n",
    "logging.debug('Start of program')\n",
    "\n",
    "def factorial(n):\n",
    "    logging.debug('Start of factorial(%s)'%(n))\n",
    "    total = 1\n",
    "    for i in range(1, n+1):\n",
    "        total *= i\n",
    "        logging.debug('i is %s, total is %s'%(i, total))\n",
    "    \n",
    "    logging.debug('Return value is %s'%(total))\n",
    "    return total\n",
    "print(factorial(5))\n",
    "\n",
    "logging.debug('End of program')"
   ]
  },
  {
   "cell_type": "code",
   "execution_count": 14,
   "metadata": {},
   "outputs": [
    {
     "name": "stdout",
     "output_type": "stream",
     "text": [
      "120\n"
     ]
    }
   ],
   "source": [
    "import logging\n",
    "logging.basicConfig(level=logging.DEBUG, format='%(asctime)s - %(levelname)s - %(message)s')\n",
    "logging.disable(logging.CRITICAL)     #Disables the logging\n",
    "\n",
    "logging.debug('Start of program')\n",
    "\n",
    "def factorial(n):\n",
    "    logging.debug('Start of factorial(%s)'%(n))\n",
    "    total = 1\n",
    "    for i in range(1, n+1):\n",
    "        total *= i\n",
    "        logging.debug('i is %s, total is %s'%(i, total))\n",
    "    \n",
    "    logging.debug('Return value is %s'%(total))\n",
    "    return total\n",
    "print(factorial(5))\n",
    "\n",
    "logging.debug('End of program')"
   ]
  },
  {
   "cell_type": "code",
   "execution_count": 16,
   "metadata": {},
   "outputs": [
    {
     "name": "stdout",
     "output_type": "stream",
     "text": [
      "120\n"
     ]
    }
   ],
   "source": [
    "# Logging as a text file\n",
    "import logging\n",
    "logging.basicConfig(filename='mylog.txt', level=logging.DEBUG, format='%(asctime)s - %(levelname)s - %(message)s')\n",
    "#logging.disable(logging.CRITICAL)     #Disables the logging\n",
    "\n",
    "logging.debug('Start of program')\n",
    "\n",
    "def factorial(n):\n",
    "    logging.debug('Start of factorial(%s)'%(n))\n",
    "    total = 1\n",
    "    for i in range(1, n+1):\n",
    "        total *= i\n",
    "        logging.debug('i is %s, total is %s'%(i, total))\n",
    "    \n",
    "    logging.debug('Return value is %s'%(total))\n",
    "    return total\n",
    "print(factorial(5))\n",
    "\n",
    "logging.debug('End of program')"
   ]
  },
  {
   "cell_type": "code",
   "execution_count": 17,
   "metadata": {},
   "outputs": [
    {
     "data": {
      "text/plain": [
       "'C:\\\\Users\\\\param'"
      ]
     },
     "execution_count": 17,
     "metadata": {},
     "output_type": "execute_result"
    }
   ],
   "source": [
    "os.getcwd()"
   ]
  },
  {
   "cell_type": "raw",
   "metadata": {},
   "source": []
  },
  {
   "cell_type": "code",
   "execution_count": null,
   "metadata": {},
   "outputs": [],
   "source": []
  }
 ],
 "metadata": {
  "kernelspec": {
   "display_name": "Python 3",
   "language": "python",
   "name": "python3"
  },
  "language_info": {
   "codemirror_mode": {
    "name": "ipython",
    "version": 3
   },
   "file_extension": ".py",
   "mimetype": "text/x-python",
   "name": "python",
   "nbconvert_exporter": "python",
   "pygments_lexer": "ipython3",
   "version": "3.7.0"
  }
 },
 "nbformat": 4,
 "nbformat_minor": 2
}
